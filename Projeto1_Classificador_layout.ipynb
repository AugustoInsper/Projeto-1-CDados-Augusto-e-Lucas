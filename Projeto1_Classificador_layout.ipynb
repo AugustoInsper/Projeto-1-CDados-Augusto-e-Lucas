{
 "cells": [
  {
   "cell_type": "markdown",
   "metadata": {},
   "source": [
    "# Projeto 1 - Ciência dos Dados"
   ]
  },
  {
   "cell_type": "markdown",
   "metadata": {},
   "source": [
    "Nome: Augusto Rocha Ribeiro\n",
    "\n",
    "\n",
    "Nome: Lucas Franco Florentino"
   ]
  },
  {
   "cell_type": "markdown",
   "metadata": {},
   "source": [
    "**Atenção:** Serão permitidos grupos de três pessoas, mas com uma rubrica mais exigente. Grupos deste tamanho precisarão fazer um questionário de avaliação de trabalho em equipe"
   ]
  },
  {
   "cell_type": "markdown",
   "metadata": {},
   "source": [
    "___\n",
    "Carregando algumas bibliotecas:"
   ]
  },
  {
   "cell_type": "code",
   "execution_count": 169,
   "metadata": {},
   "outputs": [],
   "source": [
    "#-------------------------------------Importando as bibliotecas necessárias-----------------------------------------------------\n",
    "\n",
    "import pandas as pd\n",
    "import os\n",
    "import re \n",
    "from nltk.tokenize import TweetTokenizer"
   ]
  },
  {
   "cell_type": "markdown",
   "metadata": {},
   "source": [
    "**Em `filename`, coloque o nome do seu arquivo de dados!**"
   ]
  },
  {
   "cell_type": "code",
   "execution_count": 170,
   "metadata": {
    "scrolled": false
   },
   "outputs": [
    {
     "name": "stdout",
     "output_type": "stream",
     "text": [
      "Encontrei o arquivo Havaianas.xlsx, tudo certo para prosseguir com a prova!\n"
     ]
    }
   ],
   "source": [
    "#----------------------------------Pegando o excel com as classificações manuais dos tweets-------------------------------------\n",
    "\n",
    "filename = 'Havaianas.xlsx'\n",
    "if filename in os.listdir():\n",
    "    print(f'Encontrei o arquivo {filename}, tudo certo para prosseguir com a prova!')\n",
    "else:\n",
    "    print(f'Não encontrei o arquivo {filename} aqui no diretório {os.getcwd()}, será que você não baixou o arquivo?')"
   ]
  },
  {
   "cell_type": "markdown",
   "metadata": {},
   "source": [
    "Carregando a base de dados com os tweets classificados como relevantes e não relevantes:"
   ]
  },
  {
   "cell_type": "code",
   "execution_count": 171,
   "metadata": {},
   "outputs": [],
   "source": [
    "#----------------------------------------Definindo Relevantes e Irrelevantes----------------------------------------------------\n",
    "\n",
    "train = pd.read_excel(filename)\n",
    "train_relevante = train[train['Classificação']==1]\n",
    "train_irrelevante = train[train['Classificação']==0]\n",
    "\n",
    "test = pd.read_excel(filename, sheet_name = 'Teste')\n",
    "test_relevante = test[test['Classificação']==1]\n",
    "test_irrelevante = test[test['Classificação']==0]\n",
    "\n",
    "\n",
    "#------------------------------------------Classifica as categorias-------------------------------------------------------------\n",
    "\n",
    "train['Classificação'] = train['Classificação'].astype('category')\n",
    "test['Classificação'] = test['Classificação'].astype('category')\n",
    "\n",
    "train.Classificação.cat.categories = ['Irrelevante', 'Relevante']\n",
    "test.Classificação.cat.categories = ['Irrelevante', 'Relevante']"
   ]
  },
  {
   "cell_type": "markdown",
   "metadata": {},
   "source": [
    "___\n",
    "## Classificador automático de sentimento\n"
   ]
  },
  {
   "cell_type": "markdown",
   "metadata": {},
   "source": [
    "Faça aqui uma descrição do seu produto e o que considerou como relevante ou não relevante na classificação dos tweets.\n",
    "\n",
    "Foi considerado relevante os comentários que exaltavam o produto e/ou que deixavam implícita uma qualidade sobre o produto.\n"
   ]
  },
  {
   "cell_type": "markdown",
   "metadata": {},
   "source": [
    "___\n",
    "### Montando um Classificador Naive-Bayes\n",
    "\n",
    "Considerando apenas as mensagens da planilha Treinamento, ensine  seu classificador."
   ]
  },
  {
   "cell_type": "code",
   "execution_count": 172,
   "metadata": {},
   "outputs": [],
   "source": [
    "#------------------------------------Função para retirada de caracteres indesejados---------------------------------------------\n",
    "\n",
    "def cleanup(text):\n",
    "    punctuation = '[!-.:?;@/\"\"“”,_]'\n",
    "    pattern = re.compile(punctuation)\n",
    "    text_pronto = re.sub(pattern, '', text)\n",
    "    return text_pronto\n",
    "\n",
    "\n",
    "#-------------------------------------Cria uma string com todas as palavras e caracteres----------------------------------------\n",
    "\n",
    "tweets_train = ''\n",
    "for i in range(len(train)):\n",
    "    tweets_train += train['Treinamento'].loc[i]\n",
    "\n",
    "lista_train = tweet_tokenizer.tokenize(cleanup(tweets_train.lower()))  # Deixa a string somente com letras minúsculas,\n",
    "                                                                       # aplica a função definida acima, separa os emojis\n",
    "                                                                       # das palavras, e cria uma lista em que cada\n",
    "                                                                       # palavra ou emoji é um elemento.\n",
    "\n",
    "tabela_t = pd.Series(lista_train).value_counts()       # Faz uma tabela com as frequências de cada palavra na lista acima"
   ]
  },
  {
   "cell_type": "code",
   "execution_count": 173,
   "metadata": {},
   "outputs": [],
   "source": [
    "#------------------------------------------Selecionando tweets relevantes-------------------------------------------------------\n",
    "\n",
    "linhas_train_relev = train['Classificação'] == 'Relevante'\n",
    "df_train_relev = train.loc[linhas_train_relev, :]\n",
    "\n",
    "linhas_train_irrelev = train['Classificação'] == 'Irrelevante'\n",
    "df_train_irrelev = train.loc[linhas_train_irrelev, :]\n",
    "\n",
    "#------------------------------------------Juntando todos os tweets numa string-------------------------------------------------\n",
    "\n",
    "tweets_train_relev = ''\n",
    "for i in df_train_relev['Treinamento']:\n",
    "    tweets_train_relev += i\n",
    "\n",
    "tweets_train_irrelev = ''\n",
    "for i in df_train_irrelev['Treinamento']:\n",
    "    tweets_train_irrelev += i\n",
    "\n",
    "    \n",
    "#----------------------------------------Tornando as strings em listas de palavras----------------------------------------------\n",
    "\n",
    "lista_train_relev = tweet_tokenizer.tokenize(cleanup(tweets_train_relev.lower()))\n",
    "\n",
    "lista_train_irrelev = tweet_tokenizer.tokenize(cleanup(tweets_train_irrelev.lower()))"
   ]
  },
  {
   "cell_type": "code",
   "execution_count": 174,
   "metadata": {},
   "outputs": [
    {
     "name": "stdout",
     "output_type": "stream",
     "text": [
      "Frequência ABSOLUTA das palavras dos tweets RELEVANTES\n",
      "\n",
      "havaianas               51\n",
      "de                      32\n",
      "que                     23\n",
      "o                       18\n",
      "e                       16\n",
      "                        ..\n",
      "4599976                  1\n",
      "brankinha                1\n",
      "httpstcowjirx            1\n",
      "😔                        1\n",
      "kkkkkkkkkkkkkkkkkkkk     1\n",
      "Length: 418, dtype: int64\n",
      "\n",
      "\n",
      "Frequência RELATIVA das palavras dos tweets RELEVANTES\n",
      "\n",
      "havaianas               0.062119\n",
      "de                      0.038977\n",
      "que                     0.028015\n",
      "o                       0.021924\n",
      "e                       0.019488\n",
      "                          ...   \n",
      "4599976                 0.001218\n",
      "brankinha               0.001218\n",
      "httpstcowjirx           0.001218\n",
      "😔                       0.001218\n",
      "kkkkkkkkkkkkkkkkkkkk    0.001218\n",
      "Length: 418, dtype: float64\n",
      "\n",
      "\n",
      "Frequência ABSOLUTA das palavras dos tweets IRRELEVANTES\n",
      "\n",
      "havaianas    193\n",
      "de           131\n",
      "e             86\n",
      "uma           62\n",
      "a             62\n",
      "            ... \n",
      "estaria        1\n",
      "produto        1\n",
      "trocado        1\n",
      "sigam          1\n",
      "tios           1\n",
      "Length: 1333, dtype: int64\n",
      "\n",
      "\n",
      "Frequência RELATIVA das palavras dos tweets IRRELEVANTES\n",
      "\n",
      "havaianas    0.059239\n",
      "de           0.040209\n",
      "e            0.026397\n",
      "uma          0.019030\n",
      "a            0.019030\n",
      "               ...   \n",
      "estaria      0.000307\n",
      "produto      0.000307\n",
      "trocado      0.000307\n",
      "sigam        0.000307\n",
      "tios         0.000307\n",
      "Length: 1333, dtype: float64\n"
     ]
    }
   ],
   "source": [
    "#-----------------------------------------Frequências para treinamento relevante------------------------------------------------\n",
    "\n",
    "tabela_tra = pd.Series(lista_train_relev).value_counts()\n",
    "tabela_trr = pd.Series(lista_train_relev).value_counts(True)\n",
    "\n",
    "print('Frequência ABSOLUTA das palavras dos tweets RELEVANTES\\n')\n",
    "print(tabela_tra)\n",
    "\n",
    "print('\\n\\nFrequência RELATIVA das palavras dos tweets RELEVANTES\\n')\n",
    "print(tabela_trr)   # tabela printada à título de consulta, pois não será usada posteriormente\n",
    "\n",
    "\n",
    "#----------------------------------------Frequências para treinamento irrelevante-----------------------------------------------\n",
    "\n",
    "tabela_tia = pd.Series(lista_train_irrelev).value_counts()\n",
    "tabela_tir = pd.Series(lista_train_irrelev).value_counts(True)\n",
    "\n",
    "print('\\n\\nFrequência ABSOLUTA das palavras dos tweets IRRELEVANTES\\n')\n",
    "print(tabela_tia)\n",
    "\n",
    "print('\\n\\nFrequência RELATIVA das palavras dos tweets IRRELEVANTES\\n')\n",
    "print(tabela_tir)   # tabela printada à título de consulta, pois não será usada posteriormente"
   ]
  },
  {
   "cell_type": "code",
   "execution_count": 175,
   "metadata": {},
   "outputs": [
    {
     "name": "stderr",
     "output_type": "stream",
     "text": [
      "C:\\Users\\augus\\anaconda3\\lib\\site-packages\\ipykernel_launcher.py:4: SettingWithCopyWarning: \n",
      "A value is trying to be set on a copy of a slice from a DataFrame\n",
      "\n",
      "See the caveats in the documentation: https://pandas.pydata.org/pandas-docs/stable/user_guide/indexing.html#returning-a-view-versus-a-copy\n",
      "  after removing the cwd from sys.path.\n"
     ]
    },
    {
     "data": {
      "text/html": [
       "<div>\n",
       "<style scoped>\n",
       "    .dataframe tbody tr th:only-of-type {\n",
       "        vertical-align: middle;\n",
       "    }\n",
       "\n",
       "    .dataframe tbody tr th {\n",
       "        vertical-align: top;\n",
       "    }\n",
       "\n",
       "    .dataframe thead th {\n",
       "        text-align: right;\n",
       "    }\n",
       "</style>\n",
       "<table border=\"1\" class=\"dataframe\">\n",
       "  <thead>\n",
       "    <tr style=\"text-align: right;\">\n",
       "      <th></th>\n",
       "      <th>Teste</th>\n",
       "      <th>Classificação</th>\n",
       "    </tr>\n",
       "  </thead>\n",
       "  <tbody>\n",
       "    <tr>\n",
       "      <th>0</th>\n",
       "      <td>[joshnaku, delicia, perfeito, minecraft, chine...</td>\n",
       "      <td>Irrelevante</td>\n",
       "    </tr>\n",
       "    <tr>\n",
       "      <th>1</th>\n",
       "      <td>[vendese, foto, dos, meus, pés, feios, com, ma...</td>\n",
       "      <td>Relevante</td>\n",
       "    </tr>\n",
       "    <tr>\n",
       "      <th>2</th>\n",
       "      <td>[rt, ribeirod, 10, não, vejo, a, hora, de, che...</td>\n",
       "      <td>Relevante</td>\n",
       "    </tr>\n",
       "    <tr>\n",
       "      <th>3</th>\n",
       "      <td>[estou, indo, de, havaiana, eu, tem, problema,...</td>\n",
       "      <td>Relevante</td>\n",
       "    </tr>\n",
       "    <tr>\n",
       "      <th>4</th>\n",
       "      <td>[menina, com, shorts, saia, e, havaianas, 🥰, 🥰...</td>\n",
       "      <td>Irrelevante</td>\n",
       "    </tr>\n",
       "    <tr>\n",
       "      <th>...</th>\n",
       "      <td>...</td>\n",
       "      <td>...</td>\n",
       "    </tr>\n",
       "    <tr>\n",
       "      <th>195</th>\n",
       "      <td>[egirao, aeciodepapelao, mas, a, tv, é, uma, u...</td>\n",
       "      <td>Irrelevante</td>\n",
       "    </tr>\n",
       "    <tr>\n",
       "      <th>196</th>\n",
       "      <td>[todo, mundo, q, for, vir, no, meu, aniversári...</td>\n",
       "      <td>Relevante</td>\n",
       "    </tr>\n",
       "    <tr>\n",
       "      <th>197</th>\n",
       "      <td>[eu, prometi, pra, mim, mesmo, que, eu, nao, i...</td>\n",
       "      <td>Relevante</td>\n",
       "    </tr>\n",
       "    <tr>\n",
       "      <th>198</th>\n",
       "      <td>[eu, sempre, tive, toque, com, havaianas, bran...</td>\n",
       "      <td>Irrelevante</td>\n",
       "    </tr>\n",
       "    <tr>\n",
       "      <th>199</th>\n",
       "      <td>[oi, vcs, são, reais, manda, foto, da, sua, ha...</td>\n",
       "      <td>Irrelevante</td>\n",
       "    </tr>\n",
       "  </tbody>\n",
       "</table>\n",
       "<p>200 rows × 2 columns</p>\n",
       "</div>"
      ],
      "text/plain": [
       "                                                 Teste Classificação\n",
       "0    [joshnaku, delicia, perfeito, minecraft, chine...   Irrelevante\n",
       "1    [vendese, foto, dos, meus, pés, feios, com, ma...     Relevante\n",
       "2    [rt, ribeirod, 10, não, vejo, a, hora, de, che...     Relevante\n",
       "3    [estou, indo, de, havaiana, eu, tem, problema,...     Relevante\n",
       "4    [menina, com, shorts, saia, e, havaianas, 🥰, 🥰...   Irrelevante\n",
       "..                                                 ...           ...\n",
       "195  [egirao, aeciodepapelao, mas, a, tv, é, uma, u...   Irrelevante\n",
       "196  [todo, mundo, q, for, vir, no, meu, aniversári...     Relevante\n",
       "197  [eu, prometi, pra, mim, mesmo, que, eu, nao, i...     Relevante\n",
       "198  [eu, sempre, tive, toque, com, havaianas, bran...   Irrelevante\n",
       "199  [oi, vcs, são, reais, manda, foto, da, sua, ha...   Irrelevante\n",
       "\n",
       "[200 rows x 2 columns]"
      ]
     },
     "execution_count": 175,
     "metadata": {},
     "output_type": "execute_result"
    }
   ],
   "source": [
    "#--------------------------------Limpando os tweets e listando suas palavras linha a linha--------------------------------------\n",
    "\n",
    "for i in range(len(test['Teste'])):\n",
    "    test['Teste'][i] = tweet_tokenizer.tokenize(cleanup(test['Teste'][i].lower()))\n",
    "    \n",
    "test"
   ]
  },
  {
   "cell_type": "code",
   "execution_count": 176,
   "metadata": {},
   "outputs": [],
   "source": [
    "def probabilidade(tweet, tabela, lista):     # Função para realizar o cálculo de probabilidades das palavras\n",
    "    prob = 1\n",
    "    for palavra in tweet:\n",
    "        if not palavra in tabela:           # Se a palavra de teste não consta em treinamento, então de acordo com a suavização\n",
    "            prob = prob / (len(lista) + len(tabela_t))  # de LaPlace, a probabilidade dessa palavra fica com numerador 1\n",
    "        else:\n",
    "            prob = prob * (tabela['%s'%(palavra)] + 1) / (len(lista) + len(tabela_t))\n",
    "    return prob\n",
    "\n",
    "def classificador(tweet):   # Compara a probabilidade de ser relevante com não relevante e devolve a resposta\n",
    "    if probabilidade(tweet, tabela_tra, lista_train_relev) > probabilidade(tweet, tabela_tia, lista_train_irrelev):\n",
    "        return 'Relevante'\n",
    "    else:\n",
    "        return 'Irrelevante'"
   ]
  },
  {
   "cell_type": "markdown",
   "metadata": {},
   "source": [
    "___\n",
    "### Verificando a performance do Classificador\n",
    "\n",
    "Agora você deve testar o seu classificador com a base de Testes."
   ]
  },
  {
   "cell_type": "code",
   "execution_count": 177,
   "metadata": {},
   "outputs": [
    {
     "data": {
      "text/html": [
       "<div>\n",
       "<style scoped>\n",
       "    .dataframe tbody tr th:only-of-type {\n",
       "        vertical-align: middle;\n",
       "    }\n",
       "\n",
       "    .dataframe tbody tr th {\n",
       "        vertical-align: top;\n",
       "    }\n",
       "\n",
       "    .dataframe thead th {\n",
       "        text-align: right;\n",
       "    }\n",
       "</style>\n",
       "<table border=\"1\" class=\"dataframe\">\n",
       "  <thead>\n",
       "    <tr style=\"text-align: right;\">\n",
       "      <th></th>\n",
       "      <th>Teste</th>\n",
       "      <th>Classificação</th>\n",
       "      <th>Performance</th>\n",
       "    </tr>\n",
       "  </thead>\n",
       "  <tbody>\n",
       "    <tr>\n",
       "      <th>0</th>\n",
       "      <td>[joshnaku, delicia, perfeito, minecraft, chine...</td>\n",
       "      <td>Irrelevante</td>\n",
       "      <td>Relevante</td>\n",
       "    </tr>\n",
       "    <tr>\n",
       "      <th>1</th>\n",
       "      <td>[vendese, foto, dos, meus, pés, feios, com, ma...</td>\n",
       "      <td>Relevante</td>\n",
       "      <td>Relevante</td>\n",
       "    </tr>\n",
       "    <tr>\n",
       "      <th>2</th>\n",
       "      <td>[rt, ribeirod, 10, não, vejo, a, hora, de, che...</td>\n",
       "      <td>Relevante</td>\n",
       "      <td>Irrelevante</td>\n",
       "    </tr>\n",
       "    <tr>\n",
       "      <th>3</th>\n",
       "      <td>[estou, indo, de, havaiana, eu, tem, problema,...</td>\n",
       "      <td>Relevante</td>\n",
       "      <td>Irrelevante</td>\n",
       "    </tr>\n",
       "    <tr>\n",
       "      <th>4</th>\n",
       "      <td>[menina, com, shorts, saia, e, havaianas, 🥰, 🥰...</td>\n",
       "      <td>Irrelevante</td>\n",
       "      <td>Irrelevante</td>\n",
       "    </tr>\n",
       "    <tr>\n",
       "      <th>...</th>\n",
       "      <td>...</td>\n",
       "      <td>...</td>\n",
       "      <td>...</td>\n",
       "    </tr>\n",
       "    <tr>\n",
       "      <th>195</th>\n",
       "      <td>[egirao, aeciodepapelao, mas, a, tv, é, uma, u...</td>\n",
       "      <td>Irrelevante</td>\n",
       "      <td>Relevante</td>\n",
       "    </tr>\n",
       "    <tr>\n",
       "      <th>196</th>\n",
       "      <td>[todo, mundo, q, for, vir, no, meu, aniversári...</td>\n",
       "      <td>Relevante</td>\n",
       "      <td>Irrelevante</td>\n",
       "    </tr>\n",
       "    <tr>\n",
       "      <th>197</th>\n",
       "      <td>[eu, prometi, pra, mim, mesmo, que, eu, nao, i...</td>\n",
       "      <td>Relevante</td>\n",
       "      <td>Irrelevante</td>\n",
       "    </tr>\n",
       "    <tr>\n",
       "      <th>198</th>\n",
       "      <td>[eu, sempre, tive, toque, com, havaianas, bran...</td>\n",
       "      <td>Irrelevante</td>\n",
       "      <td>Irrelevante</td>\n",
       "    </tr>\n",
       "    <tr>\n",
       "      <th>199</th>\n",
       "      <td>[oi, vcs, são, reais, manda, foto, da, sua, ha...</td>\n",
       "      <td>Irrelevante</td>\n",
       "      <td>Relevante</td>\n",
       "    </tr>\n",
       "  </tbody>\n",
       "</table>\n",
       "<p>200 rows × 3 columns</p>\n",
       "</div>"
      ],
      "text/plain": [
       "                                                 Teste Classificação  \\\n",
       "0    [joshnaku, delicia, perfeito, minecraft, chine...   Irrelevante   \n",
       "1    [vendese, foto, dos, meus, pés, feios, com, ma...     Relevante   \n",
       "2    [rt, ribeirod, 10, não, vejo, a, hora, de, che...     Relevante   \n",
       "3    [estou, indo, de, havaiana, eu, tem, problema,...     Relevante   \n",
       "4    [menina, com, shorts, saia, e, havaianas, 🥰, 🥰...   Irrelevante   \n",
       "..                                                 ...           ...   \n",
       "195  [egirao, aeciodepapelao, mas, a, tv, é, uma, u...   Irrelevante   \n",
       "196  [todo, mundo, q, for, vir, no, meu, aniversári...     Relevante   \n",
       "197  [eu, prometi, pra, mim, mesmo, que, eu, nao, i...     Relevante   \n",
       "198  [eu, sempre, tive, toque, com, havaianas, bran...   Irrelevante   \n",
       "199  [oi, vcs, são, reais, manda, foto, da, sua, ha...   Irrelevante   \n",
       "\n",
       "     Performance  \n",
       "0      Relevante  \n",
       "1      Relevante  \n",
       "2    Irrelevante  \n",
       "3    Irrelevante  \n",
       "4    Irrelevante  \n",
       "..           ...  \n",
       "195    Relevante  \n",
       "196  Irrelevante  \n",
       "197  Irrelevante  \n",
       "198  Irrelevante  \n",
       "199    Relevante  \n",
       "\n",
       "[200 rows x 3 columns]"
      ]
     },
     "execution_count": 177,
     "metadata": {},
     "output_type": "execute_result"
    }
   ],
   "source": [
    "#-------------------------------------Adicionando uma nova coluna ao dataframe Teste--------------------------------------------\n",
    "\n",
    "test['Performance'] = 'NaN'\n",
    "for i in range(len(test)):\n",
    "    test.loc[i, 'Performance'] = classificador(test.loc[i, 'Teste'])\n",
    "test"
   ]
  },
  {
   "cell_type": "code",
   "execution_count": 178,
   "metadata": {},
   "outputs": [
    {
     "data": {
      "text/plain": [
       "0.48"
      ]
     },
     "execution_count": 178,
     "metadata": {},
     "output_type": "execute_result"
    }
   ],
   "source": [
    "#-------------------------------------Contando o percentual de acertos----------------------------------------------------------\n",
    "\n",
    "contador = 0\n",
    "for i in range(len(test)):\n",
    "    if test.loc[i, 'Classificação'] == test.loc[i, 'Performance']:\n",
    "        contador += 1\n",
    "contador = contador / len(test)\n",
    "    \n",
    "contador"
   ]
  },
  {
   "cell_type": "markdown",
   "metadata": {},
   "source": [
    "___\n",
    "### Concluindo"
   ]
  },
  {
   "cell_type": "code",
   "execution_count": 185,
   "metadata": {},
   "outputs": [
    {
     "data": {
      "text/html": [
       "<div>\n",
       "<style scoped>\n",
       "    .dataframe tbody tr th:only-of-type {\n",
       "        vertical-align: middle;\n",
       "    }\n",
       "\n",
       "    .dataframe tbody tr th {\n",
       "        vertical-align: top;\n",
       "    }\n",
       "\n",
       "    .dataframe thead th {\n",
       "        text-align: right;\n",
       "    }\n",
       "</style>\n",
       "<table border=\"1\" class=\"dataframe\">\n",
       "  <thead>\n",
       "    <tr style=\"text-align: right;\">\n",
       "      <th>Performance</th>\n",
       "      <th>Irrelevante</th>\n",
       "      <th>Relevante</th>\n",
       "      <th>All</th>\n",
       "    </tr>\n",
       "    <tr>\n",
       "      <th>Classificação</th>\n",
       "      <th></th>\n",
       "      <th></th>\n",
       "      <th></th>\n",
       "    </tr>\n",
       "  </thead>\n",
       "  <tbody>\n",
       "    <tr>\n",
       "      <th>Irrelevante</th>\n",
       "      <td>0.45</td>\n",
       "      <td>0.35</td>\n",
       "      <td>0.8</td>\n",
       "    </tr>\n",
       "    <tr>\n",
       "      <th>Relevante</th>\n",
       "      <td>0.17</td>\n",
       "      <td>0.03</td>\n",
       "      <td>0.2</td>\n",
       "    </tr>\n",
       "    <tr>\n",
       "      <th>All</th>\n",
       "      <td>0.62</td>\n",
       "      <td>0.38</td>\n",
       "      <td>1.0</td>\n",
       "    </tr>\n",
       "  </tbody>\n",
       "</table>\n",
       "</div>"
      ],
      "text/plain": [
       "Performance    Irrelevante  Relevante  All\n",
       "Classificação                             \n",
       "Irrelevante           0.45       0.35  0.8\n",
       "Relevante             0.17       0.03  0.2\n",
       "All                   0.62       0.38  1.0"
      ]
     },
     "execution_count": 185,
     "metadata": {},
     "output_type": "execute_result"
    }
   ],
   "source": [
    "#------------------------Dashboard para análise de sentimento e visualização de dados-------------------------------------------\n",
    "\n",
    "quadro = pd.crosstab(test['Classificação'], test['Performance'], margins = True, normalize = True)\n",
    "quadro"
   ]
  },
  {
   "cell_type": "markdown",
   "metadata": {},
   "source": [
    "## Diferentes cenários:\n",
    "\n",
    "* Classificação de artigos em um jornal, indicando o tema do artigo por meio do uso de jargões e o tipo de reportagem. \n",
    "* Classificação de e-mails, onde o classificador poderia indentificar e-mails e separa-lo como spam ou email importantes, dividindo-os e facilitando a vida do usuário.\n",
    "* Classificação de artigos científicos em materias, indentificando as palavras chave de cada materia. Um exemplo seria um texto com a palavra \"integral\", onde, com os filtros certos, seria indentificada como artigo de matemática ou física.\n",
    "\n",
    "\n",
    "## Melhorias:\n",
    "* Aplicar filtros para descartar palavras que não serão úteis para o classificador, como conectivos e artigos.\n",
    "* Aplicar uma função que classifique as frases em frases relevantes negativas e positivas, além de separar palavras que contenham sarcasmo indentificando palavras negativas na mesma frase.\n",
    "* Aplicar mais categorias para melhorar a eficiência do classificador."
   ]
  },
  {
   "cell_type": "code",
   "execution_count": null,
   "metadata": {},
   "outputs": [],
   "source": []
  },
  {
   "cell_type": "markdown",
   "metadata": {},
   "source": [
    "___\n",
    "## Aperfeiçoamento:\n",
    "\n",
    "Os trabalhos vão evoluir em conceito dependendo da quantidade de itens avançados:\n",
    "\n",
    "* Limpar: \\n, :, \", ', (, ), etc SEM remover emojis\n",
    "* Corrigir separação de espaços entre palavras e emojis ou entre emojis e emojis\n",
    "* Propor outras limpezas e transformações que não afetem a qualidade da informação ou classificação\n",
    "* Criar categorias intermediárias de relevância baseadas na probabilidade: ex.: muito relevante, relevante, neutro, irrelevante, muito irrelevante (3 categorias: C, mais categorias conta para B)\n",
    "* Explicar por que não posso usar o próprio classificador para gerar mais amostras de treinamento\n",
    "* Propor diferentes cenários para Naïve Bayes fora do contexto do projeto\n",
    "* Sugerir e explicar melhorias reais com indicações concretas de como implementar (indicar como fazer e indicar material de pesquisa)\n",
    "* Montar um dashboard que realiza análise de sentimento e visualiza estes dados"
   ]
  },
  {
   "cell_type": "markdown",
   "metadata": {},
   "source": [
    "___\n",
    "## Referências"
   ]
  },
  {
   "cell_type": "markdown",
   "metadata": {},
   "source": [
    "[Naive Bayes and Text Classification](https://arxiv.org/pdf/1410.5329.pdf)  **Mais completo**\n",
    "\n",
    "[A practical explanation of a Naive Bayes Classifier](https://monkeylearn.com/blog/practical-explanation-naive-bayes-classifier/) **Mais simples**"
   ]
  },
  {
   "cell_type": "code",
   "execution_count": null,
   "metadata": {},
   "outputs": [],
   "source": []
  }
 ],
 "metadata": {
  "kernelspec": {
   "display_name": "Python 3",
   "language": "python",
   "name": "python3"
  },
  "language_info": {
   "codemirror_mode": {
    "name": "ipython",
    "version": 3
   },
   "file_extension": ".py",
   "mimetype": "text/x-python",
   "name": "python",
   "nbconvert_exporter": "python",
   "pygments_lexer": "ipython3",
   "version": "3.7.6"
  }
 },
 "nbformat": 4,
 "nbformat_minor": 4
}
