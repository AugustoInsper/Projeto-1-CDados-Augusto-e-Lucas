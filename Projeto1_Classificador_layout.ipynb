{
 "cells": [
  {
   "cell_type": "markdown",
   "metadata": {},
   "source": [
    "# Projeto 1 - Ciência dos Dados"
   ]
  },
  {
   "cell_type": "markdown",
   "metadata": {},
   "source": [
    "Nome: Augusto Rocha Ribeiro\n",
    "\n",
    "\n",
    "Nome: Lucas Franco Florentino"
   ]
  },
  {
   "cell_type": "markdown",
   "metadata": {},
   "source": [
    "**Atenção:** Serão permitidos grupos de três pessoas, mas com uma rubrica mais exigente. Grupos deste tamanho precisarão fazer um questionário de avaliação de trabalho em equipe"
   ]
  },
  {
   "cell_type": "markdown",
   "metadata": {},
   "source": [
    "___\n",
    "Carregando algumas bibliotecas:"
   ]
  },
  {
   "cell_type": "code",
   "execution_count": 1,
   "metadata": {},
   "outputs": [],
   "source": [
    "%matplotlib inline\n",
    "import pandas as pd\n",
    "import matplotlib.pyplot as plt\n",
    "import numpy as np\n",
    "import os"
   ]
  },
  {
   "cell_type": "markdown",
   "metadata": {},
   "source": [
    "**Em `filename`, coloque o nome do seu arquivo de dados!**"
   ]
  },
  {
   "cell_type": "code",
   "execution_count": 2,
   "metadata": {
    "scrolled": false
   },
   "outputs": [
    {
     "name": "stdout",
     "output_type": "stream",
     "text": [
      "Encontrei o arquivo Havaianas.xlsx, tudo certo para prosseguir com a prova!\n"
     ]
    }
   ],
   "source": [
    "import os\n",
    "\n",
    "filename = 'Havaianas.xlsx'\n",
    "if filename in os.listdir():\n",
    "    print(f'Encontrei o arquivo {filename}, tudo certo para prosseguir com a prova!')\n",
    "else:\n",
    "    print(f'Não encontrei o arquivo {filename} aqui no diretório {os.getcwd()}, será que você não baixou o arquivo?')"
   ]
  },
  {
   "cell_type": "markdown",
   "metadata": {},
   "source": [
    "Carregando a base de dados com os tweets classificados como relevantes e não relevantes:"
   ]
  },
  {
   "cell_type": "code",
   "execution_count": 3,
   "metadata": {},
   "outputs": [],
   "source": [
    "                                        #Definindo Relevantes e Irrelevantes\n",
    "train = pd.read_excel(filename)\n",
    "train_relevante = train[train.Classificação==1]\n",
    "train_irrelevante = train[train.Classificação==0]\n",
    "\n",
    "test = pd.read_excel(filename, sheet_name = 'Teste')\n",
    "test_relevante = test[test.Classificação==1]\n",
    "test_irrelevante = test[test.Classificação==0]\n"
   ]
  },
  {
   "cell_type": "code",
   "execution_count": 4,
   "metadata": {},
   "outputs": [],
   "source": [
    "                                        #Classifica as categorias\n",
    "train['Classificação'] = train['Classificação'].astype('category')\n",
    "test['Classificação'] = test['Classificação'].astype('category')\n",
    "\n",
    "train.Classificação.cat.categories = ['Irrelevante', 'Relevante']\n",
    "test.Classificação.cat.categories = ['Irrelevante', 'Relevante']"
   ]
  },
  {
   "cell_type": "code",
   "execution_count": null,
   "metadata": {},
   "outputs": [],
   "source": []
  },
  {
   "cell_type": "markdown",
   "metadata": {},
   "source": [
    "___\n",
    "## Classificador automático de sentimento\n"
   ]
  },
  {
   "cell_type": "markdown",
   "metadata": {},
   "source": [
    "Faça aqui uma descrição do seu produto e o que considerou como relevante ou não relevante na classificação dos tweets.\n",
    "\n",
    "Foi considerado relevante os comentários que exaltavam o produto.\n"
   ]
  },
  {
   "cell_type": "markdown",
   "metadata": {},
   "source": [
    "___\n",
    "### Montando um Classificador Naive-Bayes\n",
    "\n",
    "Considerando apenas as mensagens da planilha Treinamento, ensine  seu classificador."
   ]
  },
  {
   "cell_type": "code",
   "execution_count": 19,
   "metadata": {},
   "outputs": [
    {
     "data": {
      "text/plain": [
       "'@joshnaku delicia perfeito minecraft chinelo havaianasvende-se foto dos meus pés feios com marca de havaianas, tratar na dmrt @ribeiro_d10: não vejo a hora de chegar o verão, havaianas branca, calção e camisa no ombro🤩@ : estou indo de havaiana\\neu: tem problema não, eu tbm estou \\n@ : mas vc sempre está de havaianas kate kkkkkk levei como um elogio até pq havaianas é vida 😻menina com shorts saia e havaianas 🥰🥰🥰rt @havaianasbr: se tá com prego é porque usou bastante, né? deixa a gente dar uma mãozinha pra vocês: 10% off no https://t.co/y0zibzcfm3 c…nao sei como gringo consegue viver sem havaianas e usando tenis o tempo todo ate em casa@whindersson então se a gente elogia a pessoa de moleton meias e chilenas havaianas vermelhas ... é amor pra caralho !@mary_jane027 obrigado pela havaianas, estava precisando 😘@um_aquariiano se deus fez, é pq cabe ... num nike, num fila... até mesmo num havaianas kkkkrt @sophiiaalvess: ótima semana pra ganhar uma havaianas branca...@em_numeros @joelpinheiro85 então você sabe que a atual geração foi criada com merthiolate que não arde. \\nnunca tiveram medo ao ver uma havaianas na mão da mãe.\\nnunca arriscaram a vida por uma bala soft.\\ncresceram chamando de bullying o que nós chamávamos de \"descer pro play\".osh só pq fui na entrevista de regata, bermuda florida e havaianas branca os cara n quis me contratar, mó calorão da porraaté o preço da havaianas que tem a “bandeirinha” aumentou, tá por fora😒alguém me dá uma havaianas?? 🥺🥺🥺rt @purcausdiquecrf: @egirao @aeciodepapelao mas a tv é uma unidade. correto seria: quero 6 und azeitonas, 2 uns de biscoito recheado, 4 pã…tristeza do dia: passei em frente a havaianas e vi que tinha os modelos do naruto. quando fui olhar a numeração, não tinha meu número.\\n\\nsó o tu ru ru na minha cabeça@nathalisantoro_ vc é o prego q falta na minha havaianas 😩😩😍podem inventar 500 chinelos de todos os estilos, vou viver sempre com minha havaianas no pé https://t.co/tjuxtzsxthrt @havaianasbr: a saga ninja está prestes a começar. a coleção havaianas naruto chega em breve nas nossas lojas! ative a notificação no no…aliás, combo de indumentária chinelona dos anos 80 (quem usava era considerado ralé e, se rateasse, até era confundido com algum índio fugitivo da tribo):\\n- chinelo havaianas\\n- calção adidas\\n- camiseta hering\\nhoje em dia, quem usa essa indumentária é playboy. https://t.co/5mgu0swdv7deus, me tira essa vontade de usar havaianas em qualquer ocasião pfvrrrrmontei um havaianas maladin aqui ✅tô ficando viciado em comprar havaianas@eduarda7araujo tá caríssimo, vou ter que comprar havaianas dnvrt @micilainea: amo o conceito de vestir uma roupa arrumadinha e calçar havaianasalguém me dá uma havaianas da coleção nova pfhá tanto tempo nesse país que nem marca de biquíni e de havaianas eu tenho mais :(a professora mostrando as havaianas dela e chamando de \"tchuca\" &gt;&gt;&gt;&gt;&gt;&gt;&gt;@mlavenere eu sou o grampo no chinelo havaianas.to precisando de uma havaianas branca nova urgenteeu e a minha mania de sair de havaianas p td q é lugar. agora to com o pé cortado 🤡é pedir muito estar no chale\\n\\nde havaianas\\ncurtindo um som\\npolar litrão\\nfumando um marlbirinho\\n\\nquase bebado dizendo \"daqui a pouco eu já vou\"alguém doa uma havaianas branca pro @vitplayplay, a dele já ta marromalém das que peço pra fazer, porque as havaianas mais bonitas que encontro só vão até 39...os piratas viram meus pedidos de chinelos de sailor moon... \\nmas o que eu quero mesmo é uma havaianas original https://t.co/zw3iihcr47camisa masculina, short jeans e havaianas= look perfeito p qualquer ocasiãort @crisraay_: por mim eu ia de havaianas p tudo q é lugarjá tava aqui até imaginando, verãoo, pagodeira, havaianas e bermudinha igual, baa só felicidades com o nego...@maccf_ eu não tinha mais nem empenho de colocar um tênis, ia de havaianasmandei uma mensagem p havaianas reclamando da forma dos chinelos e eles me responderam com a maior paciência e educação do mundo ❤️❤️@buenogustav é q tu n é de deux se n lembraria, tá logo dps do livro de havaianas@adolebobo mano nenhum estilo é mais hypado que havaianas e bermudaoalguém me da uma havaianas branca de presente, meu aniversário é quarta feira@brunicdzinha essas havaianas me matam dê tesão, meu deus!!!havaianas perde noção do valor nas coisas que issort @naiaraabrito_: normalizem o \"vou de havaianas\"eu ia morrer sem saber que havaianas tb é marca de roupaalguém sabe se acho a havaianas do naruto aqui em sad??@futebol_info chama o síndico...e prepara a havaianas@maahmeods havaianas akjahshshshde eu q protelei a cozinhada do feijão o dia todo, aff mano e é quase 10 da noite, caraleo...só queria ser mais um terráqueo normal, q usa a panela de pressão como quem usa havaianasas meninas estão querendo sair de tênis semana q vem,mas já avisei que vou com minha havaianas no pé@stepilotti ba se eu te enxergar de havaianas na rua esse relacionamento vai tá correndo risco@mlavenere eu sou o prego das havaianas 😎@mgusati de havaianas brnaca capotei o hb20,eu vou parar de tomar gin acho que não@dczell sem contar a havaianas preta e branca. apesar de que hoje em dia também tem essas cores aí, a diferença é que custa o preço de um tênis.tomei vergonha na cara e comprei uma havaianas novano meu casamento eu vou tá de havaianas, já decidi@kellyputinha posta fotos assim usando chinelos havaianas tradicionais azuis migaqueria uma chinela havaianas \\nmas 70 conto :(((a havaianas vai lançar uma coleção de naruto em outubro eu tô morrendooooooooo quero todos velho 😭😭😭😭lais fazendo seu papel de guardiã, vcs pensam q eu engano ela? \\nqdo estou tendo uma recaída ela já tá lá de braços cruzados segurando uma havaianas e olhando p minha cara@clbarreto1 @wolffuzil @jureguin1 @monark aqui se você deixar um par de havaianas usadas na porta de qualquer lugar, sempre tem um fdp pra carregar... tem que haver mais respeito com o próximo...pq q as pessoa insiste em pisa no meu havaianas brancopor favor migas, postem fotos usamdo chinelos havaianas. amooooooooooo. ah! rolas, muitas rolas!!!!!!tenho duas personalidades:\\na que usa camisa de time e havaianas;\\ne a que se veste feito uma burguesa safada.@pabllovittar fabulo amor eu tava tomando banho e quando sai do banheiro o meu pai pegou minha sandália e sumiu agora tô deitado aqui na cama pra não sujar meu pé..  compra + 1 havaianas pra mim meu sonho ter duas ao mesmo tempo https://t.co/x2ukvu9sbauma chinela havaianas super simples 40 conto boe pqprt @thiifanylopes: queria uma havaianas nova@danielmatador9 convenhamos que na época os chinelos havaianas eram aqueles solado azul ceu e parte superior branca, tinha também solado amarelo ouro e a parte superior branca...coleção de havaianas brancagente, na fazenda 12, alguém observou aquela menina usando havaianas verde,  que tesão!!!!@aquelado1 @kriskasilvano sim, uma praiana é show ! biscoito globo, mate leão, havaianas , rio 40 graus. tudo certo... só que a semana tem 7 dias, e a praia não. kkk@havaianasbr pelo amor de deus quero minhas havaianas do narutooooomenor sem molho nenhum, eu de samba canção e havaianas tenho mais estilo https://t.co/n3v2k9qyemuma dica pra mamães: nao comprem havaianas pros seus babys em supermercados ou na loja da marca. compra la na riachuelo, que sempre tem em promo. paguei 9,90 na do caíque 😍ontem compramos uma sandália de dedo pra mim, havaianas, 47,90 gente é uma sandália de dedoo quase 50 pila??!!! absurdoessa coleção da havaianas com a new era ficou linda viu@dom_novinho usamdo essas havaianas, simmmmtô vendo só essa havaianas minha me larga de pista qualquer hora dessa 🙄😂anda de havaianas branca na rua é ratoeiracomprei um chinelo maravilhoso , porém desorientada que paguei 70,00 em um chinelinho da havaianas@brendambs_ vamos tirar uma foto no find assim e por as havaianas branca kakakakakkakaka ques é aqui ônormalizem havaianas em todas ocasiões@acariboniii havaianas brancaduas coisas que eu amo ganhar, perfume e havaianas 🥰rt @jpguima05: se no brasil tem havaianas no havaí tem brasileiras ?@brendeamw se precisar de havaianas é só me avisar ❤️🇧🇷\" essa menina se acha \" \\ngeeeeeeente pelo amor de deus, vocês nunca trocaram meia palavra cmg, eu só ando de havaianas pra cima e pra baixo, e adorooooo comprar blusinhas de 20 😭@pedrokastemberg não gosta de tênis branco mas usa havaianas branca \\nenfim,a hipocrisia né amigo@beauspicture kkkkkkkkkk minha família fez amigo havaianas, acho que é esse o nomenão vamos esquecer essas duas havaianas por 20@mmariamadu acho que é a forma de imitar havaianas porém com diferenciais... pena que fica ridículopensa numa pessoa que ama sair de chinelo, sou eu a louca das havaianas, tive que comprar mais uma hojejá andei com tênis de mil, mas já andei d havaianas cm prego, boné de 300 no globo e de 30 tbm,vê um mano com trem falso jamais chegue a desmerecer, vc com o de mil entra no mesmo local q uma havaianas no pé, cês acha q roupa define caráter, oq define é o respeito e a humildade.@profpaulamarisa no caso do xande, só uma bola branca e duas havaianas já são suficientes para réplica![14/9 13:38] 1010: eai prego da minha havaianas\\n\\ncara, o gg... kkkkkkkkkkkkkkkkkkjkkkkk@heyhuggo a manu quase me deixou doida quando anunciou as havaianas, mas eu tava pagando meu celular e não comprei kkkhavaianas&gt;&gt;&gt;&gt;&gt;&gt;&gt;&gt;&gt;&gt;&gt;&gt;&gt;&gt;&gt;&gt;&gt;&gt;&gt;&gt;&gt;&gt;&gt;&gt;&gt;&gt;&gt;&gt;&gt;&gt;&gt;&gt;&gt;&gt;&gt;&gt;&gt;&gt;&gt; nike adidas e puma https://t.co/aaqxxxxrjgnunca pensei em ter tanto sapatos, e apenas usar 2 (havaianas e tênis)lindas havaianas na rakuten😍😍\\n\\nhttps://t.co/v7blpigfd7\\n\\n#brasileirosnojapao #morandonojapao #vivendonojapao #vidanojapao #japaonossodecadadia #comprasonline  #楽天市場\\u3000#楽天room #楽天アフィリエイト https://t.co/hlyhkadxr2havaianas era bem assim qnd não tinha cliente. a gente cantava calipso e fazia várias coreografias 🤣🤣🤣🤣 https://t.co/hghmzfmwvi@sarinhaacorrea tinha  que ver a havaianassou apaixonada por havaianas e all star 🤩cg é realmente um ovo. fui na havaianas de novo ver se chegou os chinelos do naruto e a vendedora tinha acabado de ver as minhas tattoos no status da tatuadora e reconheceu meu braço!@mcpozefc2 que bosta , gillette e havaianas na carafui ver o boné da havaianas com a new era pra comprar, mo caro aql porra pqprt @erodahoran: essa foto é tudo:\\n-pose do hazz\\n-liam abracadinho nele\\n-a menina quase colapsando com uma havaianas incrivel no pe e as unh…vocês tb tem uma havaianas pra calçar em casa e outra na rua? pq eu não consigo ficar descalça dentro de casa@cuckwitter mesma coisa de comer um chinelo havaianas@camixstavares se tiver que ser sapato fechado vai com outro e se puder ser aberto vai de havaianas que é sucessoestilo é havaianas https://t.co/9q4oyt3jo5pq é tão difícil achar um tênis e uma havaianas da minha numeração?minha perna tá literalmente de dois tons kkkkkk todo lugar que eu vou eu uso short agora tô com marquinha,no meu pé tbm de tanto usar havaianashavaianas* https://t.co/1ccm4gajcyrt @eduardaxavier03: se arruma toda pomposa e no pé uma havaianasperguntei pra minha mãe qual é o melhor ipanema ou havaianas e ela respondeu havaianas minha mãe sabe das coisafui comprar uma havaianas nova e a mulher me disse que era 38( eu já achei caro para um caraleo) aí quando cheguei no caixa era 56 reais. mano quase 60 conto uma havaianas que vai durar menos de 60 dias. porém paguei os 38 porque sei dos meus direitos@swtzcreature @pipip1popop0 vim procurar esse teu rt, só pra dizer q eu só consigo viver de havaianas, tenho muita agonia de andar descalça pode ser o canto mais limpo, o banheiro mais limpo, n consigo....toda semana comprando havaianas, vou fazer é coleção@neversland uso minha havaianas de todos os momentos do dia 😗✌vi uma havaianas muito linda das princesas hj, mas não tinha meu nmr 😭@gcomentarios eu sou o prego no chinelo havaianas@lanna_ai de havaianas branca eu parti naquele piquechateada pq não encontro a havaianas que eu queria em nenhuma lojart @ghhelio10: preciso compra um havaianas branco urgente.várias de salto ontem, eu estava bem plena de havaianas😘🤣precisando urgentemente de um chuveiro novo, de um havaianas e de uns 3 shorts, aí a bonita vai e compra camisa do cruzeiro kkkk esperar pagar pra compro que é necessário kkkpassar pano é o novo havaianas azul@izadorajayme oi @izadorajayme, embora as dimensões da sola possam variar devido ao projeto e à proposta de uso, o tamanho e a palmilha da tradi zori seguem o melhor estilo. para você dar uma olhadinha, é só clicar no link: https://t.co/oiuqcliwhm ;).é claro que você pode ser mais que meu amigo, você pode ser meu cliente. vem comprar uma havaianas cmg caraío, preciso ganhar comissão kkcolocaram uma havaianas no lustre do escritório (?????????)@lil_veni simm, comprando 3 você ganha a havaianas brancas de graça kkkkkkcoisas nada a ver q eu acho bonito: havaianas pretase no brasil vende havaianas\\n\\nno havaí vende brasileiras? https://t.co/crcmqnhtz6 https://t.co/el6npvvlp2genteee vocês viram o preço das havaianas????? pqp!!! \\n\\naté pra andar de chinelo tá caro agora kkkkkko winderson pobre o beiço parecia um kichute rasgado.\\nrico o beiço parece uma sandália havaianas de cabeça pra baixo.🤣🤣👽quantos pares de havaianas vocês têm ?😬@mlavenere eu sou prego nas tiras da sandália havaianas...parem de querer copiar a gringa poha jovens querem acabar com a cultura brasileira filha entenda.\\n óbvio q as roupas do pinterest 😜😜 vão ser caras pq estamos no brasil copped com shortinho e havaianas no pé indo pro churrasco não 27282 camadas de blusas e uma calça boyfriend 🤪@princetongirl_7 amiga, só pode po!!! tu lembra das havaianas de pau? 🙈deveria ser permitido o uso de havaianas no fórumrt @eulepereira: que frio eh esse??? cadê o verão, camiseta, havaianas???eu quero ir na casa da sogra de shorts,camisa do grêmio e havaianasyoungjo parecendo q cursa artes plásticas na federal, mora na lapa, vai pro barzinho tomar skol e só usa havaianas virou meu conceito favorito https://t.co/w7eg37vi9a@deus tira de mim essa vontade de comprar mil havaianasa mulher q trabalha de salto só deseja loucamente sua havaianase eu que sai daqui onde eu moro pra roubarem minha havaianas em caldas novasconfesso que estou amando minhas havaianas novas 🥰gente o que houve com os preços da havaianas ? crlho 😩🥺havaianas ajuda nos. 2 em menos de uma semana. com menos de um ano de uso. #havaianas @havaianas https://t.co/sm0nsuqsfn@strangerxmcu é sério nem sei mais o que é havaianas kkkkkkkkkkkkkkk@brunnolauricell as havaianas tao cara mesmoapaixonada em havaianas branca, mas muito morgada pra lavar kkkk 😔rt @faniss_fg: preciso comprar outro chinelo havaianasprofessor:oq é flip-flops?\\neu:chinela \\nele:é oq?\\neu:chinela \\nele:havaianas \\neu:havaianas é a marca porra vai se fudepreciso de uma havaianas nova afeu to ha tanto tempo dendi casa que as marquinha de havaianas até sumiramrt @claramieli: amo o conceito de me arrumar todinha e tacar uma havaianaspessoal, hoje é aniversário da nossa amiga @seplis_. a comemoração vai ser igual àqueles chás de bebês de gente chique: todo mundo de carro passando em frente à casa dela, deixando o presente e pegando o pedaço de bolo.\\ndetalhe q ela quer uma havaianas.\\nfeliz aniversário, lis!😂 https://t.co/dq1kiocwnh@laurenhuber__ azar vou bota minhas havaianas e ir a pé ver ele lá@bruhbisandrade @bruhbisandrade bruna, o modelo slim kids glitter é vendido exclusivamente nas lojas havaianas. mas vou anotar como sugestão. 😉de havaianas no pé branquinho alto estima fica lem cima credoode havaianas com apenas o dedão pintado de preto\\nse não bastasse, o esmalte tá todo descascado@auaudrin levou sorte que eu não tava com a minha havaianas, se não tu ia levar uma coça 🥿nois aposento o havaianas e agora os bico tá bravooort @lilizferrazz: usa bermuda de praia e chinelo havaianas = gostoso 🥰nem minhas havaianas https://t.co/bmnjiue9cdse eu sofro por ser ansiosa? \\nto aq provando a roupa da virada de ano, eu nem sei se vai rolar por conta do coringa verux.. kkkk mas já comprei a bolsa e ganhei a havaianas esse fds https://t.co/cvkrsmhz2llembram qndo o corinthians trouxe o ronaldo tinha patrocínio até em baixo do sovaco do desodorante avanço!\\nmete prato fino na camisa, grendene, havaianas foda-se é só pra pagar esse loco!\\n#cavaniengrêmio \\n#cavaniengremio \\n#cavaninogrêmio \\n#cavani \\n@gremio\\n@ecavaniofficialpreciso de uma havaianas nova mas nunca mais compro branca pq vira marromlista de coisas que eu quero comprar até meu aniversário (e aceito de presente se alguém quiser me dar):\\n\\nchinela havaianas\\nlente de contato\\nfone de ouvidos\\ncelular novo\\nshort do tamanho certo\\ncamisetas enormes de brechô\\nperfume docin 🥰@abinaportal é a realidade o metralha, havaianas branca e camisa do inter, mulher 0 defeitos dai kkkkkkrt @ma_znon: nesse calor eu só tenho vontade de andar de shorts, top e havaianas@_cadelinha0t7 você é o prego que falta na minha havaianas 👁️👄👁️\"vc não vai de chinelo né\"\\n\\neu com a minha havaianas: https://t.co/375peu2bbsnão adianta só gosto das havaianas brancas@revistabula eu sou casada, mas há cinco meses só ando descalça ou de havaianasrt @jatachato: essa e a havaianas de tira azul a 360km/h  p ver quem ganha na problematização sem sentidopreciso de uma havaianas branca urgenteeeeecomo q da p ser estilosa no verao credo so quero ficar de regata chinelin e havaianasdei uma passadinha no shopping e comprei minhas havaianas 😍rt @umotakucheiroso: uma havaianas de naruto era tudo o que eu queria ganhar https://t.co/odbkzqkboeque saudade de chegar numa chácara no meio da tarde usando havaianas branco e com uma cerveja@thea_destra @lucianohuck pensa que é um estadista ou algo similar, a pretensão dele à presidência é tão vazia qto ao ego imenso que ele possui. um homem que já foi impedido de entrar numa steak house do rio por estar calçando sandálias havaianas e ficou furioso, não pode ser pr.os tênis conseguem ficar tudo feio kkkkkkkk eu com meu havaianas brilho mais 😂😂😂🤷🏽\\u200d♀️ https://t.co/2bzccqjn7c@vitplayplay @viteyyyy fica fazendo trilha c havaianas branca e reclama do materialquero ir pra todo lugar de havaianas@kimkardashian a kim de havaianas???quando a havaianas lançará essa? https://t.co/7xq0tj2nad@objetosjrpg se tá com prego é porque usou bastante, né? deixa a gente dar uma mãozinha pra vocês: 10% off no https://t.co/zvkt4icrgx com o cupom havajrpg pra escolher uma havaianas novinha e parar de bancar o necromancer.vontade de entrar na loja da havaianas e comprar uma de cada affque n° vc usa de havaianas nalaura? — umas perguntas em kkkkkk 38 anjo  https://t.co/tfuopauqrq@mateusaugustine eu não tenho culpa da mulher que ama andar de havaianas usando shorts e regata e ama pegar um sol que habita em mim@egirao @aeciodepapelao mas a tv é uma unidade. correto seria: quero 6 und azeitonas, 2 uns de biscoito recheado, 4 pães de forma, 18 grampos de grampeador, 7 und de folhas de alface, 2 pé direito de sandália havaianas, 1 pé esquerdo de botina...todo mundo q for vir no meu aniversário eu vou pedir de presente uma havaianas 😍eu prometi pra mim mesmo que eu nao ia compra mais havaianas esse aí 💭 aí do nada me pego pensando preciso compra uma havaianas 😬 quem ama um chinelo sabe do que tô falando 🤦🏾\\u200d♀️eu sempre tive toque com havaianas branca não pode ter sujeira nenhumaoi vcs são reais? manda foto da sua havaianas, se a foto for muito perfeitinha desconfio https://t.co/jcu2wogvb4'"
      ]
     },
     "execution_count": 19,
     "metadata": {},
     "output_type": "execute_result"
    }
   ],
   "source": [
    "                                        #Retirada de caracteres\n",
    "import re \n",
    "\n",
    "def cleanup(text):\n",
    "    punctuation = '[!-.:?;@/\"\",_]'\n",
    "    pattern = re.compile(punctuation)\n",
    "    text_pronto = re.sub(pattern, '', text)\n",
    "    return text_pronto\n",
    "\n",
    "from nltk.tokenize import TweetTokenizer\n",
    "tweet_tokenizer = TweetTokenizer()\n",
    "\n",
    "                                        #Cria uma lista com todas as palavras e caracteres\n",
    "todos_tweets = ''\n",
    "for i in range(len(train)):\n",
    "    todos_tweets += train['Treinamento'].loc[i]\n",
    "todos_tweets\n",
    "\n",
    "todos_tweets_test = ''\n",
    "for i in range(len(test)):\n",
    "    todos_tweets_test += test['Teste'].loc[i]\n",
    "todos_tweets_test"
   ]
  },
  {
   "cell_type": "code",
   "execution_count": 20,
   "metadata": {},
   "outputs": [],
   "source": [
    "lista_train_relevante = list(train.loc[train.Classificação == 'Relevante',:].Treinamento)\n",
    "lista_train_irrelevante = list(train.loc[train.Classificação == 'Irrelevante',:].Treinamento)"
   ]
  },
  {
   "cell_type": "code",
   "execution_count": 21,
   "metadata": {},
   "outputs": [],
   "source": [
    "lista_palavras_train = tweet_tokenizer.tokenize(cleanup(todos_tweets.lower()))\n",
    "\n",
    "lista_palavras_teste= tweet_tokenizer.tokenize(cleanup(todos_tweets_test.lower()))\n"
   ]
  },
  {
   "cell_type": "markdown",
   "metadata": {},
   "source": [
    "___\n",
    "### Verificando a performance do Classificador\n",
    "\n",
    "Agora você deve testar o seu classificador com a base de Testes."
   ]
  },
  {
   "cell_type": "code",
   "execution_count": null,
   "metadata": {},
   "outputs": [],
   "source": []
  },
  {
   "cell_type": "code",
   "execution_count": null,
   "metadata": {},
   "outputs": [],
   "source": []
  },
  {
   "cell_type": "code",
   "execution_count": null,
   "metadata": {},
   "outputs": [],
   "source": []
  },
  {
   "cell_type": "markdown",
   "metadata": {},
   "source": [
    "___\n",
    "### Concluindo"
   ]
  },
  {
   "cell_type": "code",
   "execution_count": null,
   "metadata": {},
   "outputs": [],
   "source": []
  },
  {
   "cell_type": "code",
   "execution_count": null,
   "metadata": {},
   "outputs": [],
   "source": []
  },
  {
   "cell_type": "markdown",
   "metadata": {},
   "source": [
    "___\n",
    "## Aperfeiçoamento:\n",
    "\n",
    "Os trabalhos vão evoluir em conceito dependendo da quantidade de itens avançados:\n",
    "\n",
    "* Limpar: \\n, :, \", ', (, ), etc SEM remover emojis\n",
    "* Corrigir separação de espaços entre palavras e emojis ou entre emojis e emojis\n",
    "* Propor outras limpezas e transformações que não afetem a qualidade da informação ou classificação\n",
    "* Criar categorias intermediárias de relevância baseadas na probabilidade: ex.: muito relevante, relevante, neutro, irrelevante, muito irrelevante (3 categorias: C, mais categorias conta para B)\n",
    "* Explicar por que não posso usar o próprio classificador para gerar mais amostras de treinamento\n",
    "* Propor diferentes cenários para Naïve Bayes fora do contexto do projeto\n",
    "* Sugerir e explicar melhorias reais com indicações concretas de como implementar (indicar como fazer e indicar material de pesquisa)\n",
    "* Montar um dashboard que realiza análise de sentimento e visualiza estes dados"
   ]
  },
  {
   "cell_type": "markdown",
   "metadata": {},
   "source": [
    "___\n",
    "## Referências"
   ]
  },
  {
   "cell_type": "markdown",
   "metadata": {},
   "source": [
    "[Naive Bayes and Text Classification](https://arxiv.org/pdf/1410.5329.pdf)  **Mais completo**\n",
    "\n",
    "[A practical explanation of a Naive Bayes Classifier](https://monkeylearn.com/blog/practical-explanation-naive-bayes-classifier/) **Mais simples**"
   ]
  },
  {
   "cell_type": "code",
   "execution_count": null,
   "metadata": {},
   "outputs": [],
   "source": []
  }
 ],
 "metadata": {
  "kernelspec": {
   "display_name": "Python 3",
   "language": "python",
   "name": "python3"
  },
  "language_info": {
   "codemirror_mode": {
    "name": "ipython",
    "version": 3
   },
   "file_extension": ".py",
   "mimetype": "text/x-python",
   "name": "python",
   "nbconvert_exporter": "python",
   "pygments_lexer": "ipython3",
   "version": "3.8.3"
  }
 },
 "nbformat": 4,
 "nbformat_minor": 4
}
